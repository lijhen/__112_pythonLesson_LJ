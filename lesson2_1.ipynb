{
 "cells": [
  {
   "cell_type": "code",
   "execution_count": null,
   "metadata": {},
   "outputs": [],
   "source": []
  },
  {
   "attachments": {},
   "cell_type": "markdown",
   "metadata": {},
   "source": [
    "建立新的python開發環境\n",
    "    畫面左下角codespaces\n",
    "    搜尋 dev\n",
    "    選取 python 3\n",
    "    選取 3.8以後之版本\n",
    "    rebuild .devcontainer\n",
    "\n",
    "原始檔控制\n",
    "    chang>commit\n",
    "    sync 同步>記錄開發環境"
   ]
  }
 ],
 "metadata": {
  "kernelspec": {
   "display_name": "Python 3",
   "language": "python",
   "name": "python3"
  },
  "language_info": {
   "name": "python",
   "version": "3.10.4"
  },
  "orig_nbformat": 4
 },
 "nbformat": 4,
 "nbformat_minor": 2
}
