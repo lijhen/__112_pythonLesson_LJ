{
 "cells": [
  {
   "cell_type": "code",
   "execution_count": 18,
   "metadata": {},
   "outputs": [
    {
     "data": {
      "text/plain": [
       "[78, 98, 65, 77, 99]"
      ]
     },
     "execution_count": 18,
     "metadata": {},
     "output_type": "execute_result"
    }
   ],
   "source": [
    "def gen_stu():\n",
    "    return [78, 98 ,65 , 77 ,99]\n",
    "gen_stu()"
   ]
  },
  {
   "attachments": {},
   "cell_type": "markdown",
   "metadata": {},
   "source": [
    "**return** \\\n",
    "傳出值"
   ]
  },
  {
   "attachments": {},
   "cell_type": "markdown",
   "metadata": {},
   "source": [
    "# Python 標準函式庫 (Standard Library)\n",
    "https://docs.python.org/zh-tw/3/library/index.html"
   ]
  },
  {
   "cell_type": "code",
   "execution_count": 19,
   "metadata": {},
   "outputs": [
    {
     "data": {
      "text/plain": [
       "[[98, 64, 53, 89, 67], [79, 53, 52, 96, 86], [55, 51, 57, 52, 80]]"
      ]
     },
     "execution_count": 19,
     "metadata": {},
     "output_type": "execute_result"
    }
   ],
   "source": [
    "import random\n",
    "def generate_stu():\n",
    "    return [random.randint(50 , 100), random.randint(50 , 100) ,random.randint(50 , 100),random.randint(50 , 100),random.randint(50 , 100)]\n",
    "students = [generate_stu(), generate_stu() , generate_stu()]\n",
    "students"
   ]
  },
  {
   "attachments": {},
   "cell_type": "markdown",
   "metadata": {},
   "source": [
    "上述即為二維 list[ ] :\n",
    "\n",
    "   \n",
    "   *三個學生，每個學生皆有5個成績*"
   ]
  },
  {
   "cell_type": "code",
   "execution_count": 20,
   "metadata": {},
   "outputs": [
    {
     "data": {
      "text/plain": [
       "[98, 64, 53, 89, 67]"
      ]
     },
     "execution_count": 20,
     "metadata": {},
     "output_type": "execute_result"
    }
   ],
   "source": [
    "students[0] #叫出第一個學生的成績"
   ]
  },
  {
   "cell_type": "code",
   "execution_count": 21,
   "metadata": {},
   "outputs": [
    {
     "data": {
      "text/plain": [
       "[79, 53, 52, 96, 86]"
      ]
     },
     "execution_count": 21,
     "metadata": {},
     "output_type": "execute_result"
    }
   ],
   "source": [
    "students[1]"
   ]
  },
  {
   "cell_type": "code",
   "execution_count": 22,
   "metadata": {},
   "outputs": [
    {
     "name": "stdout",
     "output_type": "stream",
     "text": [
      "[98, 64, 53, 89, 67]\n",
      "[79, 53, 52, 96, 86]\n",
      "[55, 51, 57, 52, 80]\n"
     ]
    }
   ],
   "source": [
    "for stu in students:\n",
    "    print(stu)"
   ]
  },
  {
   "cell_type": "code",
   "execution_count": 23,
   "metadata": {},
   "outputs": [
    {
     "name": "stdout",
     "output_type": "stream",
     "text": [
      "98\n",
      "64\n",
      "53\n",
      "89\n",
      "67\n",
      "===============\n",
      "79\n",
      "53\n",
      "52\n",
      "96\n",
      "86\n",
      "===============\n",
      "55\n",
      "51\n",
      "57\n",
      "52\n",
      "80\n",
      "===============\n"
     ]
    }
   ],
   "source": [
    "for stu in students:\n",
    "    for value in stu:\n",
    "        print(value)\n",
    "    print(\"===============\")"
   ]
  }
 ],
 "metadata": {
  "kernelspec": {
   "display_name": "Python 3",
   "language": "python",
   "name": "python3"
  },
  "language_info": {
   "codemirror_mode": {
    "name": "ipython",
    "version": 3
   },
   "file_extension": ".py",
   "mimetype": "text/x-python",
   "name": "python",
   "nbconvert_exporter": "python",
   "pygments_lexer": "ipython3",
   "version": "3.9.16"
  },
  "orig_nbformat": 4
 },
 "nbformat": 4,
 "nbformat_minor": 2
}
