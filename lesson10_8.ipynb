{
 "cells": [
  {
   "cell_type": "code",
   "execution_count": 4,
   "metadata": {},
   "outputs": [
    {
     "name": "stdout",
     "output_type": "stream",
     "text": [
      "連線成功\n",
      "<class 'list'>\n",
      "共382站\n"
     ]
    }
   ],
   "source": [
    "import requests\n",
    "import pandas as pd\n",
    "# import streamlit as st\n",
    "\n",
    "url = 'https://tcgbusfs.blob.core.windows.net/dotapp/youbike/v2/youbike_immediate.json'\n",
    "response = requests.request('GET',url)\n",
    "if response.status_code == 200:\n",
    "    print(\"連線成功\")\n",
    "    all_data = response.json()\n",
    "    print(type(all_data))\n",
    "else:\n",
    "    print(f\"連線失敗:{response.status_code}\")\n",
    "\n",
    "\n",
    "dataFrame = pd.DataFrame(data=all_data,columns=['sna','tot','sbi','sarea','mday','ar','bemp','act'])\n",
    "dataFrame.columns = ['站點','總車數','可借數','行政區',\n",
    "                     '時間','地址','可還','狀態']\n",
    "df1 = dataFrame.set_index('站點') #改了index，要有變數接收全新的資料\n",
    "\n",
    "# min,max = st.slider('選擇可借數量：', 0, 50,(1,50))\n",
    "# mask = df1['可借數'] <= max\n",
    "mask =( df1['可借數'] <= 10 ) & (df1['可借數'] >= 5 )\n",
    "mask_dataFrame = df1[mask]\n",
    "count_sna = mask_dataFrame['可借數'].count()\n",
    "# st.write('下列符合條件的樣站共', count_sna,'站')\n",
    "# st.dataframe(mask_dataFrame)\n",
    "print(f'共{count_sna}站')\n",
    "\n"
   ]
  }
 ],
 "metadata": {
  "kernelspec": {
   "display_name": "Python 3",
   "language": "python",
   "name": "python3"
  },
  "language_info": {
   "codemirror_mode": {
    "name": "ipython",
    "version": 3
   },
   "file_extension": ".py",
   "mimetype": "text/x-python",
   "name": "python",
   "nbconvert_exporter": "python",
   "pygments_lexer": "ipython3",
   "version": "3.10.11"
  },
  "orig_nbformat": 4
 },
 "nbformat": 4,
 "nbformat_minor": 2
}
