{
 "cells": [
  {
   "attachments": {},
   "cell_type": "markdown",
   "metadata": {},
   "source": [
    "# 資料結構\n",
    "## list\n",
    "能存有多個資料\\\n",
    "使用符號 [ ] 建立 list \n",
    "> nums = [78 , 92 , 35 , 55 , 66] \\\n",
    "索引編號：  0 ,  1 ,  2 , 3  , 4"
   ]
  },
  {
   "cell_type": "code",
   "execution_count": 3,
   "metadata": {},
   "outputs": [
    {
     "data": {
      "text/plain": [
       "(78, 92, 35, 55, 66)"
      ]
     },
     "execution_count": 3,
     "metadata": {},
     "output_type": "execute_result"
    }
   ],
   "source": [
    "list = [78,92,35,55,66]\n",
    "list[0],list[1],list[2],list[3],list[4]\n",
    "#list[5] 會出錯\n"
   ]
  },
  {
   "cell_type": "code",
   "execution_count": 4,
   "metadata": {},
   "outputs": [
    {
     "name": "stdout",
     "output_type": "stream",
     "text": [
      "78\n",
      "92\n",
      "35\n",
      "55\n",
      "66\n"
     ]
    }
   ],
   "source": [
    "for i in range(5):\n",
    "    print(list[i])"
   ]
  },
  {
   "attachments": {},
   "cell_type": "markdown",
   "metadata": {},
   "source": [
    "### **用迴圈抓出list裡的資料**\n"
   ]
  },
  {
   "cell_type": "code",
   "execution_count": 5,
   "metadata": {},
   "outputs": [
    {
     "name": "stdout",
     "output_type": "stream",
     "text": [
      "78\n",
      "92\n",
      "35\n",
      "55\n",
      "66\n"
     ]
    }
   ],
   "source": [
    "for item in list:\n",
    "    print(item)"
   ]
  },
  {
   "cell_type": "code",
   "execution_count": 8,
   "metadata": {},
   "outputs": [
    {
     "name": "stdout",
     "output_type": "stream",
     "text": [
      "30的因數是:\n",
      "1\n",
      "2\n",
      "3\n",
      "5\n",
      "6\n",
      "10\n",
      "15\n",
      "30\n",
      "=====結束=====\n"
     ]
    }
   ],
   "source": [
    "#加入引數值\n",
    "#程式可以變得更靈活\n",
    "def getFactor(para1): #para1為參數\n",
    "    \n",
    "    print(f\"{para1}的因數是:\")\n",
    "    for i in range(1,para1+1):\n",
    "        if para1 % i == 0:\n",
    "            print(i)\n",
    "    print(\"=====結束=====\")\n",
    "\n",
    "getFactor(30)    "
   ]
  },
  {
   "cell_type": "code",
   "execution_count": 9,
   "metadata": {},
   "outputs": [
    {
     "name": "stdout",
     "output_type": "stream",
     "text": [
      "78的因數是:\n",
      "1\n",
      "2\n",
      "3\n",
      "6\n",
      "13\n",
      "26\n",
      "39\n",
      "78\n",
      "=====結束=====\n",
      "95的因數是:\n",
      "1\n",
      "5\n",
      "19\n",
      "95\n",
      "=====結束=====\n",
      "107的因數是:\n",
      "1\n",
      "107\n",
      "=====結束=====\n",
      "45的因數是:\n",
      "1\n",
      "3\n",
      "5\n",
      "9\n",
      "15\n",
      "45\n",
      "=====結束=====\n"
     ]
    }
   ],
   "source": [
    "list = [78 , 95 , 107 , 45]\n",
    "\n",
    "for i in list:\n",
    "    getFactor(i)"
   ]
  },
  {
   "cell_type": "code",
   "execution_count": 12,
   "metadata": {},
   "outputs": [
    {
     "name": "stdout",
     "output_type": "stream",
     "text": [
      "78的因數是:\n",
      "1\n",
      "2\n",
      "3\n",
      "6\n",
      "13\n",
      "26\n",
      "39\n",
      "78\n",
      "=====結束=====\n",
      "95的因數是:\n",
      "1\n",
      "5\n",
      "19\n",
      "95\n",
      "=====結束=====\n",
      "107的因數是:\n",
      "1\n",
      "107\n",
      "=====結束=====\n",
      "45的因數是:\n",
      "1\n",
      "3\n",
      "5\n",
      "9\n",
      "15\n",
      "45\n",
      "=====結束=====\n",
      "15的因數是:\n",
      "1\n",
      "3\n",
      "5\n",
      "15\n",
      "=====結束=====\n",
      "25的因數是:\n",
      "1\n",
      "5\n",
      "25\n",
      "=====結束=====\n"
     ]
    }
   ],
   "source": [
    "for i in  [78 , 95 , 107 , 45, 15 ,25]:\n",
    "    getFactor(i)"
   ]
  }
 ],
 "metadata": {
  "kernelspec": {
   "display_name": "Python 3",
   "language": "python",
   "name": "python3"
  },
  "language_info": {
   "codemirror_mode": {
    "name": "ipython",
    "version": 3
   },
   "file_extension": ".py",
   "mimetype": "text/x-python",
   "name": "python",
   "nbconvert_exporter": "python",
   "pygments_lexer": "ipython3",
   "version": "3.9.16"
  },
  "orig_nbformat": 4
 },
 "nbformat": 4,
 "nbformat_minor": 2
}
