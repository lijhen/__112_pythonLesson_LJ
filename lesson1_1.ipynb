{
 "cells": [
  {
   "cell_type": "code",
   "execution_count": 2,
   "metadata": {},
   "outputs": [
    {
     "name": "stdout",
     "output_type": "stream",
     "text": [
      "Hello python!!\n"
     ]
    }
   ],
   "source": [
    "print(\"Hello python!!\")"
   ]
  },
  {
   "cell_type": "code",
   "execution_count": 7,
   "metadata": {},
   "outputs": [
    {
     "name": "stdout",
     "output_type": "stream",
     "text": [
      "123 整數int\n",
      "123.2 浮點數float\n",
      "字串 字串str\n",
      "True 布林值bool\n"
     ]
    }
   ],
   "source": [
    "# 這是註解，引數值間用逗號\n",
    "print(123,\"整數int\")\n",
    "print(123.2 , \"浮點數float\")\n",
    "print(\"字串\",\"字串str\")\n",
    "print(True, \"布林值bool\")\n"
   ]
  }
 ],
 "metadata": {
  "kernelspec": {
   "display_name": "Python 3",
   "language": "python",
   "name": "python3"
  },
  "language_info": {
   "codemirror_mode": {
    "name": "ipython",
    "version": 3
   },
   "file_extension": ".py",
   "mimetype": "text/x-python",
   "name": "python",
   "nbconvert_exporter": "python",
   "pygments_lexer": "ipython3",
   "version": "3.10.4"
  },
  "orig_nbformat": 4
 },
 "nbformat": 4,
 "nbformat_minor": 2
}
