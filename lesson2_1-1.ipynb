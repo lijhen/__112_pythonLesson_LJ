{
 "cells": [
  {
   "cell_type": "code",
   "execution_count": 12,
   "metadata": {},
   "outputs": [],
   "source": [
    "###網址列按下載 codespaces \n",
    "    #變應用程式做開發"
   ]
  },
  {
   "cell_type": "code",
   "execution_count": 13,
   "metadata": {},
   "outputs": [
    {
     "name": "stdout",
     "output_type": "stream",
     "text": [
      "<class 'int'>\n"
     ]
    }
   ],
   "source": [
    "#python built in function 查詢功能 \n",
    "#查詢資料格式 type\n",
    "print(type(13))"
   ]
  },
  {
   "attachments": {},
   "cell_type": "markdown",
   "metadata": {},
   "source": [
    "## 關係運算子\n",
    "- <\n",
    "- <=\n",
    "- *>* \n",
    "- *>=*\n",
    "- ==\n",
    "- !=\n"
   ]
  },
  {
   "cell_type": "code",
   "execution_count": 14,
   "metadata": {},
   "outputs": [
    {
     "name": "stdout",
     "output_type": "stream",
     "text": [
      "True\n"
     ]
    },
    {
     "data": {
      "text/plain": [
       "False"
      ]
     },
     "execution_count": 14,
     "metadata": {},
     "output_type": "execute_result"
    }
   ],
   "source": [
    "#使程式具有智慧==流程控制\n",
    "#加入\"判斷\" (IF) & \"迴圈\"(重複執行)(while)\n",
    "#加 bool \n",
    "# 關係運算子 \n",
    "    # < , <= , > , >= , == ,!=\n",
    "#只會傳出 True or False\n",
    "\n",
    "print(5==5)\n",
    "\n",
    "3==5"
   ]
  },
  {
   "cell_type": "code",
   "execution_count": 16,
   "metadata": {},
   "outputs": [
    {
     "name": "stdout",
     "output_type": "stream",
     "text": [
      "已經滿18\n",
      "應用程式結束\n"
     ]
    }
   ],
   "source": [
    "age = 18\n",
    "\n",
    "if age >= 18: #單向選擇 (只寫IF)\n",
    "    print(\"已經滿18\")\n",
    "else:\n",
    "    print(\"未滿18\") #與上列必執行其中一個 (IF 或 else) 雙向選擇\n",
    "print(\"應用程式結束\")"
   ]
  },
  {
   "cell_type": "code",
   "execution_count": 18,
   "metadata": {},
   "outputs": [
    {
     "name": "stdout",
     "output_type": "stream",
     "text": [
      "雙冠王\n"
     ]
    }
   ],
   "source": [
    "#多項選擇\n",
    "#IF elif(可以一直增加) else(可有可無)\n",
    "#IF特性 \n",
    "#   1.執行完一個程式區塊，會跳出IF的程式\n",
    "#   2.最嚴格的條件要放在最上面(優先)>第一個程式判斷為False才會執行下一個區塊(elif)\n",
    "#   3.三個區塊只會執行其中一個\n",
    "#邏輯運算子\n",
    "\n",
    "CH=100\n",
    "M=100\n",
    "\n",
    "if CH==100 and M==100:\n",
    "    print(\"雙冠王\")\n"
   ]
  },
  {
   "attachments": {},
   "cell_type": "markdown",
   "metadata": {},
   "source": [
    "## IF\n",
    "**多項選擇**\n",
    "- 90~100分 : 優 \n",
    "- 80~89分 : 甲\n",
    "- 70~79分 : 乙\n",
    "- 60~69分 : 丙\n",
    "- 00~59分 : 丁"
   ]
  },
  {
   "cell_type": "code",
   "execution_count": 19,
   "metadata": {},
   "outputs": [
    {
     "name": "stdout",
     "output_type": "stream",
     "text": [
      "成績等級為:丙\n"
     ]
    }
   ],
   "source": [
    "score = int(input(\"請輸入成績：\"))\n",
    "\n",
    "if score >=90:\n",
    "    grade = \"優\"\n",
    "elif score >=80:\n",
    "    grade = \"甲\"\n",
    "elif score >=70:\n",
    "    grade = \"乙\"\n",
    "elif score >=60:\n",
    "    grade = \"丙\"\n",
    "else:\n",
    "    grade = \"丁\"\n",
    "\n",
    "print(f\"成績等級為:{grade}\")\n"
   ]
  },
  {
   "attachments": {},
   "cell_type": "markdown",
   "metadata": {},
   "source": [
    "# Markdown\n",
    "> https://markdown.com.cn/basic-syntax/headings.html"
   ]
  },
  {
   "attachments": {},
   "cell_type": "markdown",
   "metadata": {},
   "source": [
    "## 邏輯運算子\n",
    "- and\n",
    "且\n",
    "\\\n",
    "二元運算子 : 前後都要bool--> _bool_ **and** _bool_\\\n",
    "嚴格的條件 : 前後都要**True**\n",
    "- or\n",
    "或者\n",
    "\\\n",
    "不嚴格得到True/易得到False\n",
    "- not\n",
    "沒有\n",
    "  \\\n",
    "    反向"
   ]
  },
  {
   "cell_type": "code",
   "execution_count": 22,
   "metadata": {},
   "outputs": [
    {
     "name": "stdout",
     "output_type": "stream",
     "text": [
      "獎金為 1000 元\n"
     ]
    }
   ],
   "source": [
    "# 邏輯運算子應用\n",
    "\n",
    "chinese = 100\n",
    "math =100\n",
    "\n",
    "if chinese == 100 and math ==100:\n",
    "    bonus = 1000\n",
    "elif chinese ==100 or math == 100:\n",
    "    bonus = 500\n",
    "else:\n",
    "    bonus =0\n",
    "\n",
    "print(f\"獎金為 {bonus} 元\")\n"
   ]
  }
 ],
 "metadata": {
  "kernelspec": {
   "display_name": "Python 3",
   "language": "python",
   "name": "python3"
  },
  "language_info": {
   "codemirror_mode": {
    "name": "ipython",
    "version": 3
   },
   "file_extension": ".py",
   "mimetype": "text/x-python",
   "name": "python",
   "nbconvert_exporter": "python",
   "pygments_lexer": "ipython3",
   "version": "3.9.16"
  },
  "orig_nbformat": 4
 },
 "nbformat": 4,
 "nbformat_minor": 2
}
