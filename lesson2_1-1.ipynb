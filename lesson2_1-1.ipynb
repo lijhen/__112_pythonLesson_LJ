{
 "cells": [
  {
   "cell_type": "code",
   "execution_count": null,
   "metadata": {},
   "outputs": [],
   "source": [
    "###網址列按下載 codespaces \n",
    "    #變應用程式做開發"
   ]
  }
 ],
 "metadata": {
  "language_info": {
   "name": "python"
  },
  "orig_nbformat": 4
 },
 "nbformat": 4,
 "nbformat_minor": 2
}
