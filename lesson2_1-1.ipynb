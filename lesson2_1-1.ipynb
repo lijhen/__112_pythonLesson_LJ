{
 "cells": [
  {
   "cell_type": "code",
   "execution_count": 12,
   "metadata": {},
   "outputs": [],
   "source": [
    "###網址列按下載 codespaces \n",
    "    #變應用程式做開發"
   ]
  },
  {
   "cell_type": "code",
   "execution_count": 13,
   "metadata": {},
   "outputs": [
    {
     "name": "stdout",
     "output_type": "stream",
     "text": [
      "<class 'int'>\n"
     ]
    }
   ],
   "source": [
    "#python built in function 查詢功能 \n",
    "#查詢資料格式 type\n",
    "print(type(13))"
   ]
  },
  {
   "cell_type": "code",
   "execution_count": 14,
   "metadata": {},
   "outputs": [
    {
     "name": "stdout",
     "output_type": "stream",
     "text": [
      "True\n"
     ]
    },
    {
     "data": {
      "text/plain": [
       "False"
      ]
     },
     "execution_count": 14,
     "metadata": {},
     "output_type": "execute_result"
    }
   ],
   "source": [
    "#使程式具有智慧==流程控制\n",
    "#加入\"判斷\" (IF) & \"迴圈\"(重複執行)(while)\n",
    "#加 bool \n",
    "# 關係運算子 \n",
    "    # < , <= , > , >= , == ,!=\n",
    "#只會傳出 True or False\n",
    "\n",
    "print(5==5)\n",
    "\n",
    "3==5"
   ]
  },
  {
   "cell_type": "code",
   "execution_count": 16,
   "metadata": {},
   "outputs": [
    {
     "name": "stdout",
     "output_type": "stream",
     "text": [
      "已經滿18\n",
      "應用程式結束\n"
     ]
    }
   ],
   "source": [
    "age = 18\n",
    "\n",
    "if age >= 18: #單向選擇 (只寫IF)\n",
    "    print(\"已經滿18\")\n",
    "else:\n",
    "    print(\"未滿18\") #與上列必執行其中一個 (IF 或 else) 雙向選擇\n",
    "print(\"應用程式結束\")"
   ]
  }
 ],
 "metadata": {
  "kernelspec": {
   "display_name": "Python 3",
   "language": "python",
   "name": "python3"
  },
  "language_info": {
   "codemirror_mode": {
    "name": "ipython",
    "version": 3
   },
   "file_extension": ".py",
   "mimetype": "text/x-python",
   "name": "python",
   "nbconvert_exporter": "python",
   "pygments_lexer": "ipython3",
   "version": "3.9.16"
  },
  "orig_nbformat": 4
 },
 "nbformat": 4,
 "nbformat_minor": 2
}
