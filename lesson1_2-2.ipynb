{
 "cells": [
  {
   "cell_type": "code",
   "execution_count": 2,
   "metadata": {},
   "outputs": [
    {
     "name": "stdout",
     "output_type": "stream",
     "text": [
      "15\n"
     ]
    }
   ],
   "source": [
    "n = 5\n",
    "m = 10\n",
    "result = input(f\"請輸入{n}+{m}的數值:\")\n",
    "#input輸出為字串\n",
    "#prompt 提示使用者的字，只能放一個引數值\n",
    "print(result)\n"
   ]
  },
  {
   "cell_type": "code",
   "execution_count": 15,
   "metadata": {},
   "outputs": [
    {
     "name": "stdout",
     "output_type": "stream",
     "text": [
      "Sum = 15.0\n"
     ]
    }
   ],
   "source": [
    "result=0\n",
    "\n",
    "n = float(input (\"請輸入第一個數:\"))\n",
    "    #type(n) 檢查資料類別\n",
    "result +=n\n",
    "\n",
    "n = float(input (\"請輸入第二個數:\")) \n",
    "result += n\n",
    "\n",
    "n = float(input (\"請輸入第三個數:\"))\n",
    "result += n\n",
    "\n",
    "print(f\"Sum = {result}\")"
   ]
  },
  {
   "cell_type": "code",
   "execution_count": 17,
   "metadata": {},
   "outputs": [
    {
     "name": "stdout",
     "output_type": "stream",
     "text": [
      "梯形的面積 = 15.0 平方公分\n"
     ]
    }
   ],
   "source": [
    "result = 0\n",
    "n = float(input (\"請輸入梯形上底(公分):\"))\n",
    "m = float(input (\"請輸入梯形下底(公分):\")) \n",
    "h = float(input (\"請輸入梯形高(公分):\"))\n",
    "result = (n+m)*h/2\n",
    "\n",
    "print(f\"梯形的面積 = {result} 平方公分\")\n",
    "      \n"
   ]
  }
 ],
 "metadata": {
  "kernelspec": {
   "display_name": "Python 3",
   "language": "python",
   "name": "python3"
  },
  "language_info": {
   "codemirror_mode": {
    "name": "ipython",
    "version": 3
   },
   "file_extension": ".py",
   "mimetype": "text/x-python",
   "name": "python",
   "nbconvert_exporter": "python",
   "pygments_lexer": "ipython3",
   "version": "3.10.4"
  },
  "orig_nbformat": 4
 },
 "nbformat": 4,
 "nbformat_minor": 2
}
