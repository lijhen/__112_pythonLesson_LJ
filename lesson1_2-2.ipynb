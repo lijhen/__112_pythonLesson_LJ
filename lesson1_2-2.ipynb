{
 "cells": [
  {
   "cell_type": "code",
   "execution_count": 2,
   "metadata": {},
   "outputs": [
    {
     "name": "stdout",
     "output_type": "stream",
     "text": [
      "15\n"
     ]
    }
   ],
   "source": [
    "n = 5\n",
    "m = 10\n",
    "result = input(f\"請輸入{n}+{m}的數值:\")\n",
    "#input輸出為字串\n",
    "#prompt 提示使用者的字，只能放一個引數值\n",
    "print(result)\n"
   ]
  },
  {
   "cell_type": "code",
   "execution_count": 13,
   "metadata": {},
   "outputs": [
    {
     "name": "stdout",
     "output_type": "stream",
     "text": [
      "總和 = 6.0\n"
     ]
    }
   ],
   "source": [
    "result=0\n",
    "n = float(input (\"請輸入第一個數:\")) #第一個數87.9\n",
    "    #type(n) 檢查資料類別\n",
    "result +=n\n",
    "n = float(input (\"請輸入第二個數:\")) \n",
    "result += n\n",
    "n = float(input (\"請輸入第三個數:\"))\n",
    "result += n\n",
    "\n",
    "print(f\"總和 = {result}\")\n",
    "\n"
   ]
  }
 ],
 "metadata": {
  "kernelspec": {
   "display_name": "Python 3",
   "language": "python",
   "name": "python3"
  },
  "language_info": {
   "codemirror_mode": {
    "name": "ipython",
    "version": 3
   },
   "file_extension": ".py",
   "mimetype": "text/x-python",
   "name": "python",
   "nbconvert_exporter": "python",
   "pygments_lexer": "ipython3",
   "version": "3.10.4"
  },
  "orig_nbformat": 4
 },
 "nbformat": 4,
 "nbformat_minor": 2
}
