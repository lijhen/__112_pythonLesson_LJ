{
 "cells": [
  {
   "cell_type": "code",
   "execution_count": 2,
   "metadata": {},
   "outputs": [
    {
     "name": "stdout",
     "output_type": "stream",
     "text": [
      "3\n",
      "34\n",
      "6\n",
      "30\n",
      "18\n",
      "5\n",
      "41\n"
     ]
    }
   ],
   "source": [
    "# 撰寫一個大樂透的電腦自動選號程式\n",
    "# 1~49 \n",
    "# 7個不重複的號碼\n",
    "import random\n",
    "for _ in range(7):\n",
    "    print(random.randint(1,49))\n",
    "    #可能會產出重複的值"
   ]
  },
  {
   "cell_type": "code",
   "execution_count": 15,
   "metadata": {},
   "outputs": [
    {
     "data": {
      "text/plain": [
       "[32, 35, 10, 44, 17, 23, 24]"
      ]
     },
     "execution_count": 15,
     "metadata": {},
     "output_type": "execute_result"
    }
   ],
   "source": [
    "lotto = set()\n",
    "while(len(lotto)<7):\n",
    "    lotto.add(random.randint(1,49))\n",
    "list(lotto) #原只輸出lotto 會依數值大小排序，轉成list會維持原本隨機的順序\n"
   ]
  },
  {
   "cell_type": "code",
   "execution_count": 22,
   "metadata": {},
   "outputs": [
    {
     "name": "stdout",
     "output_type": "stream",
     "text": [
      "[10, 17, 23, 24, 32, 35, 44]\n",
      "10 17 23 24 32 35 44 "
     ]
    }
   ],
   "source": [
    "sort_lotto = sorted(lotto) #排序\n",
    "print(sort_lotto)\n",
    "\n",
    "for lotto_nums in sort_lotto:\n",
    "    print(lotto_nums,end=\" \")"
   ]
  },
  {
   "attachments": {},
   "cell_type": "markdown",
   "metadata": {},
   "source": [
    "# module, package\n"
   ]
  },
  {
   "attachments": {},
   "cell_type": "markdown",
   "metadata": {},
   "source": [
    "requests 說明書\n",
    "https://requests.readthedocs.io/en/latest/user/install/#install \\\n",
    "安裝複製 \" $ python -m pip install requests \" (在終端機處新增)"
   ]
  }
 ],
 "metadata": {
  "kernelspec": {
   "display_name": "Python 3",
   "language": "python",
   "name": "python3"
  },
  "language_info": {
   "codemirror_mode": {
    "name": "ipython",
    "version": 3
   },
   "file_extension": ".py",
   "mimetype": "text/x-python",
   "name": "python",
   "nbconvert_exporter": "python",
   "pygments_lexer": "ipython3",
   "version": "3.9.16"
  },
  "orig_nbformat": 4
 },
 "nbformat": 4,
 "nbformat_minor": 2
}
